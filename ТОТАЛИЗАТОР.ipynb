{
 "cells": [
  {
   "cell_type": "code",
   "execution_count": 182,
   "metadata": {
    "collapsed": false
   },
   "outputs": [],
   "source": [
    "import pandas as pd\n",
    "import sqlite3\n",
    "\n",
    "con = sqlite3.connect(\"database.sqlite\")\n",
    "#d_Country = pd.read_sql(\"SELECT * FROM Country\", con)\n",
    "#d_League = pd.read_sql(\"SELECT * FROM  League\", con)\n",
    "d_Match = pd.read_sql(\"SELECT * FROM Match\", con)\n",
    "d_Player = pd.read_sql(\"SELECT * FROM Player\", con)\n",
    "d_Player_Stats = pd.read_sql(\"SELECT * FROM Player_Stats\", con)\n",
    "d_Team = pd.read_sql(\"SELECT * FROM Team\", con)\n",
    "#d_sqlite_sequence = pd.read_sql(\"SELECT * FROM sqlite_sequence\", con)\n",
    "\n",
    "con.close()"
   ]
  },
  {
   "cell_type": "code",
   "execution_count": 183,
   "metadata": {
    "collapsed": false
   },
   "outputs": [
    {
     "name": "stdout",
     "output_type": "stream",
     "text": [
      "25945\n"
     ]
    }
   ],
   "source": [
    "X = []\n",
    "#пихаем ставки и ids команд\n",
    "X = pd.concat(\n",
    "   [\n",
    "    d_Match['away_team_api_id'], d_Match['home_team_api_id'],\n",
    "    d_Match['B365H'],d_Match['B365D'],d_Match['B365A'],d_Match['BWH'],d_Match['BWD'],d_Match['BWA'],d_Match['IWH'],d_Match['IWD'],d_Match['IWA'],d_Match['LBH'],d_Match['LBD'],d_Match['LBA'],d_Match['WHH'],d_Match['WHD'],d_Match['WHA'],d_Match['SJH'],d_Match['SJD'],d_Match['SJA'],d_Match['VCH'],d_Match['VCD'],d_Match['VCA'],d_Match['GBH'],d_Match['GBD'],d_Match['GBA'],d_Match['BSH'],d_Match['BSD'],d_Match['BSA'],\n",
    "    ],\n",
    "axis = 1)\n",
    "print len(X)\n",
    "X = X[:23000]\n",
    "X = X.fillna(1)\n",
    "\n",
    "#X = X.dropna(axis=0, how='all',subset =[i for i in X.columns[-30:]])\n",
    "\n",
    "\n",
    "import numpy as np\n",
    "d_Results = d_Match[[\"home_team_goal\",\"away_team_goal\"]]\n",
    "def winner(a, b):\n",
    "    if a > b:\n",
    "        return 1\n",
    "    elif a < b:\n",
    "        return -1\n",
    "    else:\n",
    "        return 0\n",
    "y = []\n",
    "for i in range(len(X)):\n",
    "    win = winner(d_Results.iloc[i][0], d_Results.iloc[i][1])\n",
    "    y.append(win)\n",
    "#for i in range(len(X)):\n",
    "#    if y[i] == 0:\n",
    "#        del y[i]\n",
    "import numpy as np\n",
    "y = np.array(y)\n",
    "\n"
   ]
  },
  {
   "cell_type": "code",
   "execution_count": null,
   "metadata": {
    "collapsed": false
   },
   "outputs": [],
   "source": []
  },
  {
   "cell_type": "code",
   "execution_count": 184,
   "metadata": {
    "collapsed": false
   },
   "outputs": [],
   "source": [
    "#усредняем ставки\n",
    "def isNaN(num):\n",
    "    return num != num\n",
    "X3 = []\n",
    "for i in range(len(X)):\n",
    "    tmp = d_Match.iloc[i]\n",
    "    draw_sum = home_sum = away_sum = 0\n",
    "    if not isNaN(tmp['B365H']) and not isNaN(tmp['B365A']) and not isNaN(tmp['B365D']):\n",
    "        home_sum += 0 if isNaN(tmp['B365H']) else tmp['B365H']\n",
    "        away_sum += 0 if isNaN(tmp['B365A']) else tmp['B365A']\n",
    "        draw_sum += 0 if isNaN(tmp['B365D']) else tmp['B365D']\n",
    "    if not isNaN(tmp['BWH']) and not isNaN(tmp['BWA']) and not isNaN(tmp['BWD']):\n",
    "        home_sum += 0 if isNaN(tmp['BWH']) else tmp['BWH']\n",
    "        away_sum += 0 if isNaN(tmp['BWA']) else tmp['BWA']\n",
    "        draw_sum += 0 if isNaN(tmp['BWD']) else tmp['BWD']\n",
    "    if not isNaN(tmp['IWH']) and not isNaN(tmp['IWA']) and not isNaN(tmp['IWD']):\n",
    "        home_sum += 0 if isNaN(tmp['IWH']) else tmp['IWH']\n",
    "        away_sum += 0 if isNaN(tmp['IWA']) else tmp['IWA']\n",
    "        draw_sum += 0 if isNaN(tmp['IWD']) else tmp['IWD']\n",
    "    if not isNaN(tmp['LBH']) and not isNaN(tmp['LBA']) and not isNaN(tmp['LBD']):\n",
    "        home_sum += 0 if isNaN(tmp['LBH']) else tmp['LBH']\n",
    "        away_sum += 0 if isNaN(tmp['LBA']) else tmp['LBA']\n",
    "        draw_sum += 0 if isNaN(tmp['LBD']) else tmp['LBD']\n",
    "    if not isNaN(tmp['WHH']) and not isNaN(tmp['WHA']) and not isNaN(tmp['WHD']):\n",
    "        home_sum += 0 if isNaN(tmp['WHH']) else tmp['WHH']\n",
    "        away_sum += 0 if isNaN(tmp['WHA']) else tmp['WHA']\n",
    "        draw_sum += 0 if isNaN(tmp['WHD']) else tmp['WHD']\n",
    "    if not isNaN(tmp['SJH']) and not isNaN(tmp['SJA']) and not isNaN(tmp['SJD']):\n",
    "        home_sum += 0 if isNaN(tmp['SJH']) else tmp['SJH']\n",
    "        away_sum += 0 if isNaN(tmp['SJA']) else tmp['SJA']\n",
    "        draw_sum += 0 if isNaN(tmp['SJD']) else tmp['SJD']\n",
    "    if not isNaN(tmp['VCH']) and not isNaN(tmp['VCA']) and not isNaN(tmp['VCD']):\n",
    "        home_sum += 0 if isNaN(tmp['VCH']) else tmp['VCH']\n",
    "        away_sum += 0 if isNaN(tmp['VCA']) else tmp['VCA']\n",
    "        draw_sum += 0 if isNaN(tmp['VCD']) else tmp['VCD']\n",
    "    if not isNaN(tmp['GBH']) and not isNaN(tmp['GBA']) and not isNaN(tmp['GBD']):\n",
    "        home_sum += 0 if isNaN(tmp['GBH']) else tmp['GBH']\n",
    "        away_sum += 0 if isNaN(tmp['GBA']) else tmp['GBA']\n",
    "        draw_sum += 0 if isNaN(tmp['GBD']) else tmp['GBD']\n",
    "    if not isNaN(tmp['BSH']) and not isNaN(tmp['BSA']) and not isNaN(tmp['BSD']):\n",
    "        home_sum += 0 if isNaN(tmp['BSH']) else tmp['BSH']\n",
    "        away_sum += 0 if isNaN(tmp['BSA']) else tmp['BSA']\n",
    "        draw_sum += 0 if isNaN(tmp['BSD']) else tmp['BSD']\n",
    "    X3.append([home_sum / 9.0, draw_sum / 9.0, away_sum / 9.0, tmp['home_team_api_id'], tmp['away_team_api_id']])"
   ]
  },
  {
   "cell_type": "code",
   "execution_count": 185,
   "metadata": {
    "collapsed": false
   },
   "outputs": [
    {
     "name": "stdout",
     "output_type": "stream",
     "text": [
      "0.510579710145\n",
      "0.427536231884\n",
      "0.519565217391\n",
      "0.519275362319\n"
     ]
    }
   ],
   "source": [
    "from sklearn.tree import DecisionTreeClassifier\n",
    "from sklearn.linear_model import LinearRegression\n",
    "from sklearn.neighbors import KNeighborsClassifier\n",
    "from sklearn.linear_model import LogisticRegression\n",
    "from sklearn.ensemble import RandomForestClassifier\n",
    "from sklearn.cross_validation import train_test_split\n",
    "from sklearn.metrics import accuracy_score\n",
    "\n",
    "\n",
    "X_train,X_test,Y_train,Y_test = train_test_split(X,y,test_size=0.3)\n",
    "max_acc_t = 0\n",
    "max_acc_k = 0\n",
    "max_acc_l = 0\n",
    "max_acc_f = 0\n",
    "for depth in range(7, 16):\n",
    "    tree = DecisionTreeClassifier(max_depth=depth)\n",
    "    tree.fit(X_train,Y_train)\n",
    "    y_pred = tree.predict(X_test)\n",
    "    acc = accuracy_score(Y_test,y_pred)\n",
    "    max_acc_t = max(acc, max_acc_t)\n",
    "for n in range(1, 7):\n",
    "    tree = KNeighborsClassifier(n_neighbors=n)\n",
    "    tree.fit(X_train,Y_train)\n",
    "    y_pred = tree.predict(X_test)\n",
    "    acc = accuracy_score(Y_test,y_pred)\n",
    "    max_acc_k = max(acc, max_acc_k)\n",
    "tree = LogisticRegression()\n",
    "tree.fit(X_train,Y_train)\n",
    "y_pred = tree.predict(X_test)\n",
    "acc = accuracy_score(Y_test,y_pred)\n",
    "max_acc_l = max(acc, max_acc_l)\n",
    "\n",
    "for depth in range(7, 16):\n",
    "    tree = RandomForestClassifier(n_estimators=50, max_depth=depth)\n",
    "    tree.fit(X_train,Y_train)\n",
    "    y_pred = tree.predict(X_test)\n",
    "    acc = accuracy_score(Y_test,y_pred)\n",
    "    max_acc_f = max(acc, max_acc_f)\n",
    "\n",
    "\n",
    "print max_acc_t\n",
    "print max_acc_k\n",
    "print max_acc_l\n",
    "print max_acc_f"
   ]
  }
 ],
 "metadata": {
  "kernelspec": {
   "display_name": "Python 2",
   "language": "python",
   "name": "python2"
  },
  "language_info": {
   "codemirror_mode": {
    "name": "ipython",
    "version": 2
   },
   "file_extension": ".py",
   "mimetype": "text/x-python",
   "name": "python",
   "nbconvert_exporter": "python",
   "pygments_lexer": "ipython2",
   "version": "2.7.10"
  }
 },
 "nbformat": 4,
 "nbformat_minor": 0
}
